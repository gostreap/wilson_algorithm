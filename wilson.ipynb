{
 "cells": [
  {
   "cell_type": "markdown",
   "metadata": {},
   "source": [
    "# Algorithme de Wilson pour la génération d’arbres couvrants uniformes\n",
    "***\n",
    "Un graphe $G = (V , E)$ non orienté est défini par l’ensemble de sommets $V$ et l’ensemble $E$ d’arcs, qui sont des\n",
    "paires de sommets. Un graphe est dit connexe si chaque paire de sommets $i, j$ est reliée par un chemin $(i, i_1 ),\n",
    "(i_1 , i_2),... (i_k , j)$ d’arcs du graphe. Un graphe est un **arbre** s’il est connexe et ne contient aucun cycle non trivial, ou\n",
    "de manière équivalente, s’il est connexe et tel que $|E| = |V | − 1$.\n",
    "\n",
    "Pour un graphe $G = (V , E)$, un **arbre couvrant** de G est un graphe arbre $T = (V(T), E(T))$, tel que $V(T) = V$,\n",
    "et $E(T)\\subset E$. En d’autres termes, $T$ est un arbre constitué d’arcs de $G$ et connectant tous les sommets de $G$. Le\n",
    "nombre d’arbres couvrants d’un graphe $G$ pouvant être exponentiel en le nombre de sommets de $G$, il n’est a priori\n",
    "pas évident d’obtenir un arbre couvrant choisi uniformément distribué au hasard.\n",
    "\n",
    "**L’algorithme de Wilson** permet, pour un graphe non orienté connexe $G$, avec ensemble fini de sommets $V$, de\n",
    "simuler un arbre couvrant uniformément au hasard parmi tous les arbres couvrants de $G$. Il procède de la manière\n",
    "suivante.\n",
    "\n",
    "- **Initialisation**: $T_0 = \\{r\\}$, arbre réduit à un unique sommet $r \\in V$ choisi arbitrairement.\n",
    "\n",
    "- **Itération, étape $i$**: ayant construit un arbre $T_{i−1}$ , prendre un sommet $u \\in V \\setminus V (T_{i−1})$, où $V(T_{i−1})$ désigne l’ensemble des sommets de l’arbre $T_{i−1}$.\n",
    "\n",
    "    1. Engendrer une marche aléatoire $\\{U_0,\\dots , U_N\\}$ sur $G$ partant de $u$, avec probabilités de transition du sommet $k$ vers le sommet $l$ donnée par $P_{k,l} = d_k^{−1} \\mathbf{1}_{(k,l) \\in E}$ , où $d_k$ est le nombre de voisins de $k$ dans $G^2$, issue de $U_0 = u$, et arrêtée au premier instant $N$ auquel elle atteint l’un des sommets de $T_{i−1}$.\n",
    "     \n",
    "    2. Appliquer la procédure suivante d’effacement de boucles à cette marche: pour $$n = \\inf\\{t \\in {1, \\dots, N } : \\exists s < t \\text{ tel que } U_s = U_t\\}\\text{,}$$ on efface la boucle $U_s , \\dots , U_{n−1}$ pour conserver uniquement $U_0,\\dots , U_{s−1}, U_n , \\dots , U_N$. Itérer cette procédure d’effacement jusqu’à absence de telles boucles. Le chemin résultant est noté $V_0 = u, V_1 ,\\dots, V_M = U_N$. On définit alors l’arbre $T_i$ comme l’union de $T_{i−1}$ et du chemin $V_0 , \\dots, V_M$.\n",
    "\n",
    "L’algorithme termine lorsqu’un arbre couvrant est obtenu.\n",
    "\n",
    "La partie théorique établit que l’algorithme de Wilson produit bien un arbre couvrant uniforme. La partie simulation consiste à mettre en oeuvre cet algorithme."
   ]
  },
  {
   "cell_type": "code",
   "execution_count": null,
   "metadata": {},
   "outputs": [],
   "source": []
  }
 ],
 "metadata": {
  "kernelspec": {
   "display_name": "Python 3",
   "language": "python",
   "name": "python3"
  },
  "language_info": {
   "codemirror_mode": {
    "name": "ipython",
    "version": 3
   },
   "file_extension": ".py",
   "mimetype": "text/x-python",
   "name": "python",
   "nbconvert_exporter": "python",
   "pygments_lexer": "ipython3",
   "version": "3.8.2"
  }
 },
 "nbformat": 4,
 "nbformat_minor": 4
}
