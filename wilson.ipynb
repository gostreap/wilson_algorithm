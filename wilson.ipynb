{
 "cells": [
  {
   "cell_type": "markdown",
   "metadata": {},
   "source": [
    "# Algorithme de Wilson pour la génération d’arbres couvrants uniformes\n",
    "***\n",
    "Un graphe $G = (V , E)$ non orienté est défini par l’ensemble de sommets $V$ et l’ensemble $E$ d’arcs, qui sont des\n",
    "paires de sommets. Un graphe est dit connexe si chaque paire de sommets $i, j$ est reliée par un chemin $(i, i_1 ),\n",
    "(i_1 , i_2),... (i_k , j)$ d’arcs du graphe. Un graphe est un **arbre** s’il est connexe et ne contient aucun cycle non trivial, ou\n",
    "de manière équivalente, s’il est connexe et tel que $|E| = |V | − 1$."
   ]
  },
  {
   "cell_type": "code",
   "execution_count": null,
   "metadata": {},
   "outputs": [],
   "source": []
  }
 ],
 "metadata": {
  "kernelspec": {
   "display_name": "Python 3",
   "language": "python",
   "name": "python3"
  },
  "language_info": {
   "codemirror_mode": {
    "name": "ipython",
    "version": 3
   },
   "file_extension": ".py",
   "mimetype": "text/x-python",
   "name": "python",
   "nbconvert_exporter": "python",
   "pygments_lexer": "ipython3",
   "version": "3.8.2"
  }
 },
 "nbformat": 4,
 "nbformat_minor": 4
}
