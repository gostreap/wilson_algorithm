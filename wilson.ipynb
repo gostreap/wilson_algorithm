{
 "cells": [
  {
   "cell_type": "markdown",
   "metadata": {},
   "source": [
    "# Algorithme de Wilson pour la génération d’arbres couvrants uniformes\n",
    "***\n",
    "Un graphe $G = (V , E)$ non orienté est défini par l’ensemble de sommets $V$ et l’ensemble $E$ d’arcs, qui sont des\n",
    "paires de sommets. Un graphe est dit connexe si chaque paire de sommets $i, j$ est reliée par un chemin $(i, i_1 ),\n",
    "(i_1 , i_2),... (i_k , j)$ d’arcs du graphe. Un graphe est un **arbre** s’il est connexe et ne contient aucun cycle non trivial, ou\n",
    "de manière équivalente, s’il est connexe et tel que $|E| = |V | − 1$.\n",
    "\n",
    "Pour un graphe $G = (V , E)$, un **arbre couvrant** de G est un graphe arbre $T = (V(T), E(T))$, tel que $V(T) = V$,\n",
    "et $E(T)\\subset E$. En d’autres termes, $T$ est un arbre constitué d’arcs de $G$ et connectant tous les sommets de $G$. Le\n",
    "nombre d’arbres couvrants d’un graphe $G$ pouvant être exponentiel en le nombre de sommets de $G$, il n’est a priori\n",
    "pas évident d’obtenir un arbre couvrant choisi uniformément distribué au hasard.\n",
    "\n",
    "**L’algorithme de Wilson** permet, pour un graphe non orienté connexe $G$, avec ensemble fini de sommets $V$, de\n",
    "simuler un arbre couvrant uniformément au hasard parmi tous les arbres couvrants de $G$. Il procède de la manière\n",
    "suivante.\n",
    "\n",
    "- **Initialisation**: $T_0 = \\{r\\}$, arbre réduit à un unique sommet $r \\in V$ choisi arbitrairement.\n",
    "\n",
    "- **Itération, étape $i$**: ayant construit un arbre $T_{i−1}$ , prendre un sommet $u \\in V \\setminus V (T_{i−1})$, où $V(T_{i−1})$ désigne l’ensemble des sommets de l’arbre $T_{i−1}$.\n",
    "\n",
    "    1. Engendrer une marche aléatoire $\\{U_0,\\dots , U_N\\}$ sur $G$ partant de $u$, avec probabilités de transition du sommet $k$ vers le sommet $l$ donnée par $P_{k,l} = d_k^{−1} \\mathbf{1}_{(k,l) \\in E}$ , où $d_k$ est le nombre de voisins de $k$ dans $G^2$, issue de $U_0 = u$, et arrêtée au premier instant $N$ auquel elle atteint l’un des sommets de $T_{i−1}$.\n",
    "     \n",
    "    2. Appliquer la procédure suivante d’effacement de boucles à cette marche: pour $$n = \\inf\\{t \\in {1, \\dots, N } : \\exists s < t \\text{ tel que } U_s = U_t\\}\\text{,}$$ on efface la boucle $U_s , \\dots , U_{n−1}$ pour conserver uniquement $U_0,\\dots , U_{s−1}, U_n , \\dots , U_N$. Itérer cette procédure d’effacement jusqu’à absence de telles boucles. Le chemin résultant est noté $V_0 = u, V_1 ,\\dots, V_M = U_N$. On définit alors l’arbre $T_i$ comme l’union de $T_{i−1}$ et du chemin $V_0 , \\dots, V_M$.\n",
    "\n",
    "L’algorithme termine lorsqu’un arbre couvrant est obtenu.\n",
    "\n",
    "La partie théorique établit que l’algorithme de Wilson produit bien un arbre couvrant uniforme. La partie simulation consiste à mettre en oeuvre cet algorithme.\n",
    "\n",
    "# 1. Partie théorique\n",
    "\n",
    "Pour chaque sommet $k$ de $G$ distinct de $r$, on se donne une séquence i.d.d. $\\{A^t_k\\}_{t\\geq 1}$ de voisins de $k$ dans $G$ choisis uniformément au hasard. Ces séquences sont mutuellement indépendantes entre elles.\n",
    "\n",
    "On interprète ces variables de la manière suivante: dans notre implémentation de l’algorithme de Wilson, la\n",
    "première fois qu’un sommet k est atteint par une des marches construites, son étape suivante est $A^1_k$; la deuxième fois, l’étape suivante est $A^2_k$, la $t$-ième fois, c'est $A^t_k$. L'ensemble des arcs orientés $(k, A^1_k)$ définit un graphe orienté.\n",
    "\n",
    "**T1.** On envisage de telles séquences comme des piles (d’épaisseur infinie) de choix aléatoires de voisins pour\n",
    "chaque sommet $k\\neq r$. Considérant le graphe dirigé défini par les choix $A_k^1$ au sommet des piles, si celui-ci contient un cycle orienté $C=k_0, k_1=A^1_{k_0},\\cdots , k_0 = A^1_{k_l}$ , on s’autorise à le supprimer, c’est à dire à supprimer du haut des piles associées les choix correspondants $A^1_{k_0}, \\cdots, A^1_{k_l}$. Un tel cycle est dit **directement suppressible**.\n",
    "\n",
    "On appelle cycle toute séquence $C=(k_0, k_1 = A^{t_0}_{k_0},\\cdots , k_0 = A^{t_l}_{k_l})$. On dira qu'un cycle $C=(k_0, k_1 = A^{t_0}_{k_0},\\cdots , k_0 = A^{t_l}_{k_l})$ est **suppressible** s'il existe une séquence de cycles $C_1, \\cdots, C_k = C$ tels qu'on peut supprimer séquentiellement les cycles $C_1$, puis $C_2$, etc. jusqu'à $C_k = C$.\n",
    "\n",
    "Prouver que pour tout cycle $C$ suppressible, et tout cycle $C'$ directement suppressible, alors on peut supprimer\n",
    "$C$ via une séquence de cycles qui commence par le cycle $C'$.\n",
    "\n"
   ]
  },
  {
   "cell_type": "markdown",
   "metadata": {},
   "source": [
    "***Réponse :***"
   ]
  },
  {
   "cell_type": "markdown",
   "metadata": {},
   "source": [
    "**T2.** En déduire que seuls deux scénarios sont possibles: soit après chaque suppression d’un cycle arbitraire, il reste toujours un cycle qu’on peut encore supprimer (le processus de suppression des cycles ne termine jamais),\n",
    "soit le processus de suppression des cycles termine, auquel cas les cycles enlevés ne dépendent pas de l’ordre\n",
    "dans lequel on les a enlevés, et les valeurs au sommet des piles dans la configuration terminale ne dépendent pas\n",
    "non plus de cet ordre."
   ]
  },
  {
   "cell_type": "markdown",
   "metadata": {},
   "source": [
    "***Réponse :***"
   ]
  },
  {
   "cell_type": "markdown",
   "metadata": {},
   "source": [
    "**T3.** Montrer qu’avec probabilité 1, l’algorithme de Wilson termine en un nombre d’étapes fini. En interprétant\n",
    "l’algorithme de Wilson comme un enlèvement de cycles, en déduire que avec probabilité 1 le processus de suppression des cycles termine."
   ]
  },
  {
   "cell_type": "markdown",
   "metadata": {},
   "source": [
    "***Réponse :***"
   ]
  },
  {
   "cell_type": "markdown",
   "metadata": {},
   "source": [
    "**T4.** Soit $C_1, \\cdots, C_M$ l’ensemble de cycles enlevables étant données les piles $\\{A^t_k \\}_{t\\geq 1}, k\\in V\\backslash\\{r\\}$, et soit $\\vec{T}$ le graphe orienté, libre de cycles, obtenu dans la configuration terminale après suppression des cycles. Justifier que la collection de cycles $\\{C_1, \\cdots, C_M \\}$ est indépendante de $\\vec{T}$. En déduire que l'arbre $T$ obtenu en retirant l’orientation des arcs de $\\vec{T}$ est uniformément distribué parmi les arbres couvrants de $G$."
   ]
  },
  {
   "cell_type": "markdown",
   "metadata": {},
   "source": [
    "***Réponse :***"
   ]
  },
  {
   "cell_type": "markdown",
   "metadata": {},
   "source": [
    "# 2. Partie Simulation\n",
    "\n",
    "**S1.** Implémenter l’algorithme de Wilson: en prenant comme entrée un graphe non orienté $G$, obtenir en sortie un échantillon uniforme d’un arbre couvrant de $G$."
   ]
  },
  {
   "cell_type": "code",
   "execution_count": null,
   "metadata": {},
   "outputs": [],
   "source": []
  },
  {
   "cell_type": "markdown",
   "metadata": {},
   "source": [
    "**S2.** Tester l'algorithme avec $G = (V,E)$ une grille à deux dimensions, i.e. $V=\\{(x,y), x\\in \\{1,\\cdots, n \\}, y\\in \\{1,\\cdots, n \\} \\}$ et $E=\\{\\{ (x,y), (x',y')\\} \\in V^2 : \\lvert x-x' \\rvert + \\lvert y-y' \\rvert = 1 \\}$. Engendrer des images de 2 arbres couvrants résultants pour la grille avec $n = 10$, puis avec $n = 50$."
   ]
  },
  {
   "cell_type": "code",
   "execution_count": null,
   "metadata": {},
   "outputs": [],
   "source": []
  },
  {
   "cell_type": "markdown",
   "metadata": {},
   "source": [
    "**S3.** Tester l’algorithme avec $G = (V , E)$ une grille triangulaire, i.e. $V=\\{(x,y), x\\in \\{1,\\cdots, n \\}, y\\in \\{1,\\cdots, x \\} \\}$ et \n",
    "\n",
    "$$ E=\\{\\{ (x,y), (x',y')\\} \\in V^2 : soit~x=x'~et~ \\lvert y-y' \\rvert = 1, ~soit~x'=x+1~et~y'\\in \\{ y,y+1 \\} \\} $$\n",
    "\n",
    "Engendrer des images de 2 arbres couvrants résultants pour la grille triangulaire avec $n = 10$, puis avec $n = 50$."
   ]
  },
  {
   "cell_type": "code",
   "execution_count": null,
   "metadata": {},
   "outputs": [],
   "source": []
  }
 ],
 "metadata": {
  "kernelspec": {
   "display_name": "Python 3",
   "language": "python",
   "name": "python3"
  },
  "language_info": {
   "codemirror_mode": {
    "name": "ipython",
    "version": 3
   },
   "file_extension": ".py",
   "mimetype": "text/x-python",
   "name": "python",
   "nbconvert_exporter": "python",
   "pygments_lexer": "ipython3",
   "version": "3.6.9"
  }
 },
 "nbformat": 4,
 "nbformat_minor": 4
}
